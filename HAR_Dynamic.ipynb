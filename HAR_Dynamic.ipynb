{
 "cells": [
  {
   "cell_type": "code",
   "execution_count": 1,
   "metadata": {},
   "outputs": [],
   "source": [
    "# Importing Libraries"
   ]
  },
  {
   "cell_type": "code",
   "execution_count": 1,
   "metadata": {},
   "outputs": [],
   "source": [
    "import pandas as pd\n",
    "import numpy as np"
   ]
  },
  {
   "cell_type": "code",
   "execution_count": 2,
   "metadata": {},
   "outputs": [],
   "source": [
    "\n",
    "import matplotlib.pyplot as plt\n",
    "import numpy as np\n",
    "import time\n",
    "\n",
    "def plt_dynamic(x, vy, ty, ax, colors=['b']):\n",
    "    ax.plot(x, vy, 'b', label=\"Validation Loss\")\n",
    "    ax.plot(x, ty, 'r', label=\"Train Loss\")\n",
    "    plt.legend()\n",
    "    plt.grid()\n",
    "   \n",
    "    fig.canvas.draw()"
   ]
  },
  {
   "cell_type": "code",
   "execution_count": 3,
   "metadata": {},
   "outputs": [],
   "source": [
    "# Activities are the class labels\n",
    "# It is a 6 class classification\n",
    "ACTIVITIES = {\n",
    "    0: 'WALKING',\n",
    "    1: 'WALKING_UPSTAIRS',\n",
    "    2: 'WALKING_DOWNSTAIRS',\n",
    "    3: 'SITTING',\n",
    "    4: 'STANDING',\n",
    "    5: 'LAYING',\n",
    "}\n",
    "\n",
    "# Utility function to print the confusion matrix\n",
    "def confusion_matrix(Y_true, Y_pred):\n",
    "    Y_true = pd.Series([ACTIVITIES[y] for y in np.argmax(Y_true, axis=1)])\n",
    "    Y_pred = pd.Series([ACTIVITIES[y] for y in np.argmax(Y_pred, axis=1)])\n",
    "\n",
    "    return pd.crosstab(Y_true, Y_pred, rownames=['True'], colnames=['Pred'])"
   ]
  },
  {
   "cell_type": "markdown",
   "metadata": {},
   "source": [
    "### Data"
   ]
  },
  {
   "cell_type": "code",
   "execution_count": 4,
   "metadata": {},
   "outputs": [],
   "source": [
    "# Data directory\n",
    "DATADIR = 'UCI_HAR_Dataset'"
   ]
  },
  {
   "cell_type": "code",
   "execution_count": 5,
   "metadata": {},
   "outputs": [],
   "source": [
    "# Raw data signals\n",
    "# Signals are from Accelerometer and Gyroscope\n",
    "# The signals are in x,y,z directions\n",
    "# Sensor signals are filtered to have only body acceleration\n",
    "# excluding the acceleration due to gravity\n",
    "# Triaxial acceleration from the accelerometer is total acceleration\n",
    "SIGNALS = [\n",
    "    \"body_acc_x\",\n",
    "    \"body_acc_y\",\n",
    "    \"body_acc_z\",\n",
    "    \"body_gyro_x\",\n",
    "    \"body_gyro_y\",\n",
    "    \"body_gyro_z\",\n",
    "    \"total_acc_x\",\n",
    "    \"total_acc_y\",\n",
    "    \"total_acc_z\"\n",
    "]"
   ]
  },
  {
   "cell_type": "code",
   "execution_count": 6,
   "metadata": {},
   "outputs": [],
   "source": [
    "# Utility function to read the data from csv file\n",
    "def _read_csv(filename):\n",
    "    return pd.read_csv(filename, delim_whitespace=True, header=None)\n",
    "\n",
    "# Utility function to load the load\n",
    "def load_signals(subset):\n",
    "    signals_data = []\n",
    "\n",
    "    for signal in SIGNALS:\n",
    "        filename = f'UCI_HAR_Dataset/{subset}/Inertial Signals/{signal}_{subset}.txt'\n",
    "        signals_data.append(\n",
    "            _read_csv(filename).as_matrix()\n",
    "        ) \n",
    "\n",
    "    # Transpose is used to change the dimensionality of the output,\n",
    "    # aggregating the signals by combination of sample/timestep.\n",
    "    # Resultant shape is (7352 train/2947 test samples, 128 timesteps, 9 signals)\n",
    "    return np.transpose(signals_data, (1, 2, 0))"
   ]
  },
  {
   "cell_type": "code",
   "execution_count": 7,
   "metadata": {},
   "outputs": [],
   "source": [
    "\n",
    "def load_y(subset):\n",
    "    \"\"\"\n",
    "    The objective that we are trying to predict is a integer, from 1 to 6,\n",
    "    that represents a human activity. We return a binary representation of \n",
    "    every sample objective as a 6 bits vector using One Hot Encoding\n",
    "    (https://pandas.pydata.org/pandas-docs/stable/generated/pandas.get_dummies.html)\n",
    "    \"\"\"\n",
    "    filename = f'UCI_HAR_Dataset/{subset}/y_{subset}.txt'\n",
    "    y = _read_csv(filename)[0]\n",
    "\n",
    "    return y"
   ]
  },
  {
   "cell_type": "code",
   "execution_count": 8,
   "metadata": {},
   "outputs": [],
   "source": [
    "def load_data():\n",
    "    \"\"\"\n",
    "    Obtain the dataset from multiple files.\n",
    "    Returns: X_train, X_test, y_train, y_test\n",
    "    \"\"\"\n",
    "    X_train, X_test = load_signals('train'), load_signals('test')\n",
    "    y_train, y_test = load_y('train'), load_y('test')\n",
    "\n",
    "    return X_train, X_test, y_train, y_test"
   ]
  },
  {
   "cell_type": "code",
   "execution_count": 9,
   "metadata": {},
   "outputs": [],
   "source": [
    "# Importing tensorflow\n",
    "np.random.seed(42)\n",
    "import tensorflow as tf\n",
    "tf.set_random_seed(42)"
   ]
  },
  {
   "cell_type": "code",
   "execution_count": 10,
   "metadata": {},
   "outputs": [],
   "source": [
    "# Configuring a session\n",
    "session_conf = tf.ConfigProto(\n",
    "    intra_op_parallelism_threads=1,\n",
    "    inter_op_parallelism_threads=1\n",
    ")"
   ]
  },
  {
   "cell_type": "code",
   "execution_count": 11,
   "metadata": {},
   "outputs": [
    {
     "name": "stderr",
     "output_type": "stream",
     "text": [
      "Using TensorFlow backend.\n"
     ]
    }
   ],
   "source": [
    "# Import Keras\n",
    "from keras import backend as K\n",
    "sess = tf.Session(graph=tf.get_default_graph(), config=session_conf)\n",
    "K.set_session(sess)"
   ]
  },
  {
   "cell_type": "code",
   "execution_count": 12,
   "metadata": {},
   "outputs": [],
   "source": [
    "# Importing libraries\n",
    "from keras.models import Sequential\n",
    "from keras.layers import LSTM\n",
    "from keras.layers.core import Dense, Dropout"
   ]
  },
  {
   "cell_type": "code",
   "execution_count": 13,
   "metadata": {},
   "outputs": [],
   "source": [
    "# Utility function to count the number of classes\n",
    "def _count_classes(y):\n",
    "    return len(set([tuple(category) for category in y]))"
   ]
  },
  {
   "cell_type": "code",
   "execution_count": 14,
   "metadata": {},
   "outputs": [
    {
     "name": "stderr",
     "output_type": "stream",
     "text": [
      "C:\\Users\\MERCER\\Anaconda3\\envs\\keras-gpu\\lib\\site-packages\\ipykernel_launcher.py:12: FutureWarning: Method .as_matrix will be removed in a future version. Use .values instead.\n",
      "  if sys.path[0] == '':\n"
     ]
    }
   ],
   "source": [
    "# Loading the train and test data\n",
    "X_train, X_test, y_train, y_test = load_data()"
   ]
  },
  {
   "cell_type": "code",
   "execution_count": 15,
   "metadata": {},
   "outputs": [
    {
     "name": "stdout",
     "output_type": "stream",
     "text": [
      "(7352, 128, 9) (7352,)\n",
      "(2947, 128, 9) (2947,)\n"
     ]
    }
   ],
   "source": [
    "print(X_train.shape,y_train.shape)\n",
    "print(X_test.shape,y_test.shape)"
   ]
  },
  {
   "cell_type": "markdown",
   "metadata": {},
   "source": [
    "# Prepare Data for Dynamic"
   ]
  },
  {
   "cell_type": "code",
   "execution_count": 16,
   "metadata": {},
   "outputs": [
    {
     "name": "stdout",
     "output_type": "stream",
     "text": [
      "\n",
      "+++ DATA STATISTICS +++\n",
      "\n",
      "train_dynamic shape:  (3285, 128, 9) (3285,)\n",
      "test_dynamic shape:  (1387, 128, 9) (1387,)\n"
     ]
    }
   ],
   "source": [
    "import random\n",
    "\n",
    "dynamic_1 = np.where(y_train == 1)[0]\n",
    "dynamic_2 = np.where(y_train == 2)[0]\n",
    "dynamic_3 = np.where(y_train == 3)[0]\n",
    "dynamic = np.concatenate([dynamic_1, dynamic_2, dynamic_3])\n",
    "dynamic_list = dynamic.tolist()\n",
    "\n",
    "# Shuffle dynamic data index\n",
    "r = random.random()\n",
    "random.shuffle(dynamic_list, lambda: r)\n",
    "\n",
    "dynamic = np.array(dynamic_list)\n",
    "\n",
    "X_train_dynamic = X_train[dynamic]\n",
    "y_train_dynamic = y_train[dynamic]\n",
    "\n",
    "# Convert (1, 2, 3) labels to (0, 1, 2)\n",
    "y_train_dynamic  = y_train_dynamic - 1\n",
    "\n",
    "print (\"\\n+++ DATA STATISTICS +++\\n\")\n",
    "print (\"train_dynamic shape: \", X_train_dynamic.shape,y_train_dynamic.shape)\n",
    "\n",
    "# Select dynamic HAR test data\n",
    "\n",
    "dynamic_1 = np.where(y_test == 1)[0]\n",
    "dynamic_2 = np.where(y_test == 2)[0]\n",
    "dynamic_3 = np.where(y_test == 3)[0]\n",
    "dynamic = np.concatenate([dynamic_1, dynamic_2, dynamic_3])\n",
    "\n",
    "X_test_dynamic = X_test[dynamic]\n",
    "y_test_dynamic = y_test[dynamic]\n",
    "\n",
    "# Convert (1, 2, 3) labels to (0, 1, 2)\n",
    "y_test_dynamic  = y_test_dynamic - 1\n",
    "\n",
    "print (\"test_dynamic shape: \", X_test_dynamic.shape,y_test_dynamic.shape)\n",
    "\n",
    "n_classes = 3\n",
    "\n",
    "# Convert to one hot encoding vector\n",
    "y_train_dynamic_oh = np.eye(n_classes)[y_train_dynamic]\n",
    "\n",
    "y_test_dynamic_oh = np.eye(n_classes)[y_test_dynamic]"
   ]
  },
  {
   "cell_type": "code",
   "execution_count": 17,
   "metadata": {},
   "outputs": [
    {
     "name": "stdout",
     "output_type": "stream",
     "text": [
      "Shape of y_train_dynamic after OHE  (3285, 3)\n",
      "Shape of y_test_dynamic after OHE  (1387, 3)\n"
     ]
    }
   ],
   "source": [
    "print(\"Shape of y_train_dynamic after OHE \" , y_train_dynamic_oh.shape)\n",
    "\n",
    "print(\"Shape of y_test_dynamic after OHE \" , y_test_dynamic_oh.shape)"
   ]
  },
  {
   "cell_type": "code",
   "execution_count": 18,
   "metadata": {},
   "outputs": [
    {
     "name": "stdout",
     "output_type": "stream",
     "text": [
      "128\n",
      "9\n",
      "3285\n",
      "3\n"
     ]
    }
   ],
   "source": [
    "# For Dynamic\n",
    "\n",
    "\n",
    "timesteps_Dynamic = len(X_train_dynamic[0])\n",
    "input_dim_Dynamic = len(X_train_dynamic[0][0])\n",
    "n_classes_Dynamic = _count_classes(y_train_dynamic_oh)\n",
    "\n",
    "print(timesteps_Dynamic)\n",
    "print(input_dim_Dynamic)\n",
    "print(len(X_train_dynamic))\n",
    "print(n_classes_Dynamic)"
   ]
  },
  {
   "cell_type": "markdown",
   "metadata": {},
   "source": [
    "## Dynamic Model"
   ]
  },
  {
   "cell_type": "code",
   "execution_count": 19,
   "metadata": {},
   "outputs": [
    {
     "name": "stdout",
     "output_type": "stream",
     "text": [
      "WARNING:tensorflow:From C:\\Users\\MERCER\\Anaconda3\\envs\\keras-gpu\\lib\\site-packages\\tensorflow\\python\\framework\\op_def_library.py:263: colocate_with (from tensorflow.python.framework.ops) is deprecated and will be removed in a future version.\n",
      "Instructions for updating:\n",
      "Colocations handled automatically by placer.\n",
      "WARNING:tensorflow:From C:\\Users\\MERCER\\Anaconda3\\envs\\keras-gpu\\lib\\site-packages\\keras\\backend\\tensorflow_backend.py:3445: calling dropout (from tensorflow.python.ops.nn_ops) with keep_prob is deprecated and will be removed in a future version.\n",
      "Instructions for updating:\n",
      "Please use `rate` instead of `keep_prob`. Rate should be set to `rate = 1 - keep_prob`.\n",
      "_________________________________________________________________\n",
      "Layer (type)                 Output Shape              Param #   \n",
      "=================================================================\n",
      "conv1d_1 (Conv1D)            (None, 126, 32)           896       \n",
      "_________________________________________________________________\n",
      "max_pooling1d_1 (MaxPooling1 (None, 63, 32)            0         \n",
      "_________________________________________________________________\n",
      "dropout_1 (Dropout)          (None, 63, 32)            0         \n",
      "_________________________________________________________________\n",
      "batch_normalization_1 (Batch (None, 63, 32)            128       \n",
      "_________________________________________________________________\n",
      "conv1d_2 (Conv1D)            (None, 61, 64)            6208      \n",
      "_________________________________________________________________\n",
      "max_pooling1d_2 (MaxPooling1 (None, 30, 64)            0         \n",
      "_________________________________________________________________\n",
      "batch_normalization_2 (Batch (None, 30, 64)            256       \n",
      "_________________________________________________________________\n",
      "conv1d_3 (Conv1D)            (None, 28, 80)            15440     \n",
      "_________________________________________________________________\n",
      "max_pooling1d_3 (MaxPooling1 (None, 14, 80)            0         \n",
      "_________________________________________________________________\n",
      "dropout_2 (Dropout)          (None, 14, 80)            0         \n",
      "_________________________________________________________________\n",
      "batch_normalization_3 (Batch (None, 14, 80)            320       \n",
      "_________________________________________________________________\n",
      "flatten_1 (Flatten)          (None, 1120)              0         \n",
      "_________________________________________________________________\n",
      "dense_1 (Dense)              (None, 3)                 3363      \n",
      "=================================================================\n",
      "Total params: 26,611\n",
      "Trainable params: 26,259\n",
      "Non-trainable params: 352\n",
      "_________________________________________________________________\n"
     ]
    }
   ],
   "source": [
    "from keras.layers import LSTM, Dropout, TimeDistributed, Dense, Activation, Embedding,Flatten\n",
    "from keras.layers import BatchNormalization\n",
    "from keras.layers import Conv1D, MaxPooling1D\n",
    "from keras.optimizers import Adam\n",
    "\n",
    "model_dynamic = Sequential()\n",
    "\n",
    "model_dynamic.add(Conv1D(32, 3, input_shape=(128, 9), activation='relu',kernel_initializer = 'he_normal'))\n",
    "model_dynamic.add(MaxPooling1D(2))\n",
    "model_dynamic.add(Dropout(0.2))\n",
    "model_dynamic.add(BatchNormalization())\n",
    "\n",
    "\n",
    "model_dynamic.add(Conv1D(64, 3, activation='relu',kernel_initializer = 'he_normal'))\n",
    "model_dynamic.add(MaxPooling1D(2))\n",
    "model_dynamic.add(BatchNormalization())\n",
    "#model_dynamic.add(Dropout(0.2))\n",
    "\n",
    "model_dynamic.add(Conv1D(80, 3,  activation='relu',kernel_initializer = 'he_normal'))\n",
    "model_dynamic.add(MaxPooling1D(2))\n",
    "model_dynamic.add(Dropout(0.2))\n",
    "model_dynamic.add(BatchNormalization())\n",
    "\n",
    "model_dynamic.add(Flatten())\n",
    "\n",
    "model_dynamic.add(Dense(3, activation='sigmoid'))\n",
    "\n",
    "\n",
    "model_dynamic.compile(loss='categorical_crossentropy', metrics=['accuracy'], optimizer = 'adam')\n",
    "\n",
    "model_dynamic.summary()"
   ]
  },
  {
   "cell_type": "code",
   "execution_count": 20,
   "metadata": {
    "scrolled": true
   },
   "outputs": [
    {
     "name": "stdout",
     "output_type": "stream",
     "text": [
      "WARNING:tensorflow:From C:\\Users\\MERCER\\Anaconda3\\envs\\keras-gpu\\lib\\site-packages\\tensorflow\\python\\ops\\math_ops.py:3066: to_int32 (from tensorflow.python.ops.math_ops) is deprecated and will be removed in a future version.\n",
      "Instructions for updating:\n",
      "Use tf.cast instead.\n",
      "Train on 3285 samples, validate on 1387 samples\n",
      "Epoch 1/50\n",
      "3285/3285 [==============================] - 8s 2ms/step - loss: 0.6643 - acc: 0.7294 - val_loss: 0.3681 - val_acc: 0.8919\n",
      "Epoch 2/50\n",
      "3285/3285 [==============================] - 4s 1ms/step - loss: 0.1828 - acc: 0.9482 - val_loss: 0.1362 - val_acc: 0.9517\n",
      "Epoch 3/50\n",
      "3285/3285 [==============================] - 4s 1ms/step - loss: 0.0948 - acc: 0.9635 - val_loss: 0.1436 - val_acc: 0.9539\n",
      "Epoch 4/50\n",
      "3285/3285 [==============================] - 5s 1ms/step - loss: 0.0713 - acc: 0.9750 - val_loss: 0.1608 - val_acc: 0.9546\n",
      "Epoch 5/50\n",
      "3285/3285 [==============================] - 4s 1ms/step - loss: 0.0565 - acc: 0.9787 - val_loss: 0.1655 - val_acc: 0.9524\n",
      "Epoch 6/50\n",
      "3285/3285 [==============================] - 4s 1ms/step - loss: 0.0598 - acc: 0.9805 - val_loss: 0.1479 - val_acc: 0.9524\n",
      "Epoch 7/50\n",
      "3285/3285 [==============================] - 5s 1ms/step - loss: 0.0383 - acc: 0.9854 - val_loss: 0.0678 - val_acc: 0.9755\n",
      "Epoch 8/50\n",
      "3285/3285 [==============================] - 4s 1ms/step - loss: 0.0348 - acc: 0.9869 - val_loss: 0.0427 - val_acc: 0.9791\n",
      "Epoch 9/50\n",
      "3285/3285 [==============================] - 5s 1ms/step - loss: 0.0304 - acc: 0.9903 - val_loss: 0.2014 - val_acc: 0.9402\n",
      "Epoch 10/50\n",
      "3285/3285 [==============================] - 4s 1ms/step - loss: 0.0225 - acc: 0.9927 - val_loss: 0.0770 - val_acc: 0.9762\n",
      "Epoch 11/50\n",
      "3285/3285 [==============================] - 5s 1ms/step - loss: 0.0324 - acc: 0.9887 - val_loss: 0.1337 - val_acc: 0.9683\n",
      "Epoch 12/50\n",
      "3285/3285 [==============================] - 5s 2ms/step - loss: 0.0373 - acc: 0.9881 - val_loss: 0.1257 - val_acc: 0.9668\n",
      "Epoch 13/50\n",
      "3285/3285 [==============================] - 4s 1ms/step - loss: 0.0216 - acc: 0.9936 - val_loss: 0.1001 - val_acc: 0.9726\n",
      "Epoch 14/50\n",
      "3285/3285 [==============================] - 4s 1ms/step - loss: 0.0219 - acc: 0.9924 - val_loss: 0.1024 - val_acc: 0.9690\n",
      "Epoch 15/50\n",
      "3285/3285 [==============================] - 4s 1ms/step - loss: 0.0328 - acc: 0.9909 - val_loss: 0.1802 - val_acc: 0.9647\n",
      "Epoch 16/50\n",
      "3285/3285 [==============================] - 4s 1ms/step - loss: 0.0172 - acc: 0.9951 - val_loss: 0.1688 - val_acc: 0.9704\n",
      "Epoch 17/50\n",
      "3285/3285 [==============================] - 4s 1ms/step - loss: 0.0145 - acc: 0.9963 - val_loss: 0.1617 - val_acc: 0.9661\n",
      "Epoch 18/50\n",
      "3285/3285 [==============================] - 4s 1ms/step - loss: 0.0163 - acc: 0.9954 - val_loss: 0.1306 - val_acc: 0.9704\n",
      "Epoch 19/50\n",
      "3285/3285 [==============================] - 4s 1ms/step - loss: 0.0306 - acc: 0.9915 - val_loss: 0.1426 - val_acc: 0.9712\n",
      "Epoch 20/50\n",
      "3285/3285 [==============================] - 4s 1ms/step - loss: 0.0219 - acc: 0.9945 - val_loss: 0.0579 - val_acc: 0.9776\n",
      "Epoch 21/50\n",
      "3285/3285 [==============================] - 4s 1ms/step - loss: 0.0179 - acc: 0.9951 - val_loss: 0.0547 - val_acc: 0.9813\n",
      "Epoch 22/50\n",
      "3285/3285 [==============================] - 4s 1ms/step - loss: 0.0345 - acc: 0.9906 - val_loss: 0.0727 - val_acc: 0.9798\n",
      "Epoch 23/50\n",
      "3285/3285 [==============================] - 4s 1ms/step - loss: 0.0143 - acc: 0.9951 - val_loss: 0.0866 - val_acc: 0.9769\n",
      "Epoch 24/50\n",
      "3285/3285 [==============================] - 4s 1ms/step - loss: 0.0172 - acc: 0.9939 - val_loss: 0.1006 - val_acc: 0.9733\n",
      "Epoch 25/50\n",
      "3285/3285 [==============================] - 4s 1ms/step - loss: 0.0074 - acc: 0.9973 - val_loss: 0.0809 - val_acc: 0.9791\n",
      "Epoch 26/50\n",
      "3285/3285 [==============================] - 5s 1ms/step - loss: 0.0126 - acc: 0.9954 - val_loss: 0.0862 - val_acc: 0.9733\n",
      "Epoch 27/50\n",
      "3285/3285 [==============================] - 4s 1ms/step - loss: 0.0166 - acc: 0.9939 - val_loss: 0.1297 - val_acc: 0.9776\n",
      "Epoch 28/50\n",
      "3285/3285 [==============================] - 4s 1ms/step - loss: 0.0094 - acc: 0.9976 - val_loss: 0.1393 - val_acc: 0.9748\n",
      "Epoch 29/50\n",
      "3285/3285 [==============================] - 5s 1ms/step - loss: 0.0044 - acc: 0.9985 - val_loss: 0.1827 - val_acc: 0.9676\n",
      "Epoch 30/50\n",
      "3285/3285 [==============================] - 5s 2ms/step - loss: 0.0143 - acc: 0.9960 - val_loss: 0.1419 - val_acc: 0.9712\n",
      "Epoch 31/50\n",
      "3285/3285 [==============================] - 4s 1ms/step - loss: 0.0138 - acc: 0.9960 - val_loss: 0.1091 - val_acc: 0.9762\n",
      "Epoch 32/50\n",
      "3285/3285 [==============================] - 4s 1ms/step - loss: 0.0125 - acc: 0.9957 - val_loss: 0.1278 - val_acc: 0.9748\n",
      "Epoch 33/50\n",
      "3285/3285 [==============================] - 4s 1ms/step - loss: 0.0369 - acc: 0.9915 - val_loss: 0.1269 - val_acc: 0.9755\n",
      "Epoch 34/50\n",
      "3285/3285 [==============================] - 4s 1ms/step - loss: 0.0187 - acc: 0.9939 - val_loss: 0.1271 - val_acc: 0.9697\n",
      "Epoch 35/50\n",
      "3285/3285 [==============================] - 5s 1ms/step - loss: 0.0179 - acc: 0.9960 - val_loss: 0.1386 - val_acc: 0.9661\n",
      "Epoch 36/50\n",
      "3285/3285 [==============================] - 4s 1ms/step - loss: 0.0107 - acc: 0.9967 - val_loss: 0.0704 - val_acc: 0.9776\n",
      "Epoch 37/50\n",
      "3285/3285 [==============================] - 4s 1ms/step - loss: 0.0097 - acc: 0.9970 - val_loss: 0.0253 - val_acc: 0.9870\n",
      "Epoch 38/50\n",
      "3285/3285 [==============================] - 4s 1ms/step - loss: 0.0097 - acc: 0.9970 - val_loss: 0.0554 - val_acc: 0.9834\n",
      "Epoch 39/50\n",
      "3285/3285 [==============================] - 4s 1ms/step - loss: 0.0099 - acc: 0.9976 - val_loss: 0.0843 - val_acc: 0.9776\n",
      "Epoch 40/50\n",
      "3285/3285 [==============================] - 5s 1ms/step - loss: 0.0152 - acc: 0.9957 - val_loss: 0.0754 - val_acc: 0.9791\n",
      "Epoch 41/50\n",
      "3285/3285 [==============================] - 4s 1ms/step - loss: 0.0146 - acc: 0.9948 - val_loss: 0.0486 - val_acc: 0.9906\n",
      "Epoch 42/50\n",
      "3285/3285 [==============================] - 4s 1ms/step - loss: 0.0178 - acc: 0.9954 - val_loss: 0.0190 - val_acc: 0.9935\n",
      "Epoch 43/50\n",
      "3285/3285 [==============================] - 4s 1ms/step - loss: 0.0065 - acc: 0.9979 - val_loss: 0.0836 - val_acc: 0.9813\n",
      "Epoch 44/50\n",
      "3285/3285 [==============================] - 4s 1ms/step - loss: 0.0053 - acc: 0.9979 - val_loss: 0.1015 - val_acc: 0.9805\n",
      "Epoch 45/50\n",
      "3285/3285 [==============================] - 4s 1ms/step - loss: 0.0126 - acc: 0.9951 - val_loss: 0.0457 - val_acc: 0.9870\n",
      "Epoch 46/50\n",
      "3285/3285 [==============================] - 4s 1ms/step - loss: 0.0110 - acc: 0.9960 - val_loss: 0.0730 - val_acc: 0.9791\n",
      "Epoch 47/50\n",
      "3285/3285 [==============================] - 4s 1ms/step - loss: 0.0029 - acc: 0.9991 - val_loss: 0.0631 - val_acc: 0.9834\n",
      "Epoch 48/50\n",
      "3285/3285 [==============================] - 4s 1ms/step - loss: 0.0073 - acc: 0.9976 - val_loss: 0.1855 - val_acc: 0.9640\n",
      "Epoch 49/50\n",
      "3285/3285 [==============================] - 4s 1ms/step - loss: 0.0137 - acc: 0.9963 - val_loss: 0.1201 - val_acc: 0.9726\n",
      "Epoch 50/50\n",
      "3285/3285 [==============================] - 4s 1ms/step - loss: 0.0122 - acc: 0.9973 - val_loss: 0.0527 - val_acc: 0.9834\n"
     ]
    }
   ],
   "source": [
    "# Training the model\n",
    "history_dynamic = model_dynamic.fit(X_train_dynamic,\n",
    "          y_train_dynamic_oh,\n",
    "          batch_size=10,\n",
    "          validation_data=(X_test_dynamic, y_test_dynamic_oh),\n",
    "          epochs=50)"
   ]
  },
  {
   "cell_type": "markdown",
   "metadata": {},
   "source": [
    "## Plot on Loss"
   ]
  },
  {
   "cell_type": "code",
   "execution_count": 21,
   "metadata": {},
   "outputs": [
    {
     "name": "stdout",
     "output_type": "stream",
     "text": [
      "Test score: 0.05266645603603324\n",
      "Test accuracy: 0.9834174477289113\n"
     ]
    },
    {
     "data": {
      "image/png": "[encoded data removed]",
      "text/plain": [
       "<Figure size 432x288 with 1 Axes>"
      ]
     },
     "metadata": {
      "needs_background": "light"
     },
     "output_type": "display_data"
    }
   ],
   "source": [
    "score = model_dynamic.evaluate(X_test_dynamic, y_test_dynamic_oh, verbose=0) \n",
    "print('Test score:', score[0]) \n",
    "print('Test accuracy:', score[1])\n",
    "\n",
    "fig,ax = plt.subplots(1,1)\n",
    "ax.set_xlabel('epoch') ; ax.set_ylabel('Categorical Crossentropy Loss')\n",
    "\n",
    "# list of epoch numbers\n",
    "x = list(range(1,50+1))\n",
    "\n",
    "# print(history.history.keys())\n",
    "# dict_keys(['val_loss', 'val_acc', 'loss', 'acc'])\n",
    "# history = model_drop.fit(X_train, Y_train, batch_size=batch_size, epochs=nb_epoch, verbose=1, validation_data=(X_test, Y_test))\n",
    "\n",
    "# we will get val_loss and val_acc only when you pass the paramter validation_data\n",
    "# val_loss : validation loss\n",
    "# val_acc : validation accuracy\n",
    "\n",
    "# loss : training loss\n",
    "# acc : train accuracy\n",
    "# for each key in histrory.histrory we will have a list of length equal to number of epochs\n",
    "\n",
    "vy = history_dynamic.history['val_loss']\n",
    "ty = history_dynamic.history['loss']\n",
    "plt_dynamic(x, vy, ty, ax)"
   ]
  },
  {
   "cell_type": "markdown",
   "metadata": {},
   "source": [
    "## Plot on Accuracy"
   ]
  },
  {
   "cell_type": "code",
   "execution_count": 22,
   "metadata": {},
   "outputs": [
    {
     "name": "stdout",
     "output_type": "stream",
     "text": [
      "Test score: 0.05266645603603324\n",
      "Test accuracy: 0.9834174477289113\n"
     ]
    },
    {
     "data": {
      "image/png": "[encoded data removed]",
      "text/plain": [
       "<Figure size 432x288 with 1 Axes>"
      ]
     },
     "metadata": {
      "needs_background": "light"
     },
     "output_type": "display_data"
    }
   ],
   "source": [
    "score = model_dynamic.evaluate(X_test_dynamic, y_test_dynamic_oh, verbose=0) \n",
    "print('Test score:', score[0]) \n",
    "print('Test accuracy:', score[1])\n",
    "\n",
    "fig,ax = plt.subplots(1,1)\n",
    "ax.set_xlabel('epoch') ; ax.set_ylabel('Accuracy')\n",
    "\n",
    "# list of epoch numbers\n",
    "x = list(range(1,50+1))\n",
    "\n",
    "# print(history.history.keys())\n",
    "# dict_keys(['val_loss', 'val_acc', 'loss', 'acc'])\n",
    "# history = model_drop.fit(X_train, Y_train, batch_size=batch_size, epochs=nb_epoch, verbose=1, validation_data=(X_test, Y_test))\n",
    "\n",
    "# we will get val_loss and val_acc only when you pass the paramter validation_data\n",
    "# val_loss : validation loss\n",
    "# val_acc : validation accuracy\n",
    "\n",
    "# loss : training loss\n",
    "# acc : train accuracy\n",
    "# for each key in histrory.histrory we will have a list of length equal to number of epochs\n",
    "\n",
    "vy = history_dynamic.history['val_acc']\n",
    "ty = history_dynamic.history['acc']\n",
    "plt_dynamic(x, vy, ty, ax)"
   ]
  },
  {
   "cell_type": "markdown",
   "metadata": {},
   "source": [
    "## Confusion Matrix"
   ]
  },
  {
   "cell_type": "code",
   "execution_count": 23,
   "metadata": {},
   "outputs": [
    {
     "data": {
      "text/html": [
       "<div>\n",
       "<style scoped>\n",
       "    .dataframe tbody tr th:only-of-type {\n",
       "        vertical-align: middle;\n",
       "    }\n",
       "\n",
       "    .dataframe tbody tr th {\n",
       "        vertical-align: top;\n",
       "    }\n",
       "\n",
       "    .dataframe thead th {\n",
       "        text-align: right;\n",
       "    }\n",
       "</style>\n",
       "<table border=\"1\" class=\"dataframe\">\n",
       "  <thead>\n",
       "    <tr style=\"text-align: right;\">\n",
       "      <th>Pred</th>\n",
       "      <th>WALKING</th>\n",
       "      <th>WALKING_DOWNSTAIRS</th>\n",
       "      <th>WALKING_UPSTAIRS</th>\n",
       "    </tr>\n",
       "    <tr>\n",
       "      <th>True</th>\n",
       "      <th></th>\n",
       "      <th></th>\n",
       "      <th></th>\n",
       "    </tr>\n",
       "  </thead>\n",
       "  <tbody>\n",
       "    <tr>\n",
       "      <th>WALKING</th>\n",
       "      <td>483</td>\n",
       "      <td>13</td>\n",
       "      <td>0</td>\n",
       "    </tr>\n",
       "    <tr>\n",
       "      <th>WALKING_DOWNSTAIRS</th>\n",
       "      <td>0</td>\n",
       "      <td>410</td>\n",
       "      <td>10</td>\n",
       "    </tr>\n",
       "    <tr>\n",
       "      <th>WALKING_UPSTAIRS</th>\n",
       "      <td>0</td>\n",
       "      <td>0</td>\n",
       "      <td>471</td>\n",
       "    </tr>\n",
       "  </tbody>\n",
       "</table>\n",
       "</div>"
      ],
      "text/plain": [
       "Pred                WALKING  WALKING_DOWNSTAIRS  WALKING_UPSTAIRS\n",
       "True                                                             \n",
       "WALKING                 483                  13                 0\n",
       "WALKING_DOWNSTAIRS        0                 410                10\n",
       "WALKING_UPSTAIRS          0                   0               471"
      ]
     },
     "execution_count": 23,
     "metadata": {},
     "output_type": "execute_result"
    }
   ],
   "source": [
    "confusion_matrix(y_test_dynamic_oh, model_dynamic.predict(X_test_dynamic))"
   ]
  },
  {
   "cell_type": "markdown",
   "metadata": {},
   "source": [
    "# Results"
   ]
  },
  {
   "cell_type": "code",
   "execution_count": 24,
   "metadata": {},
   "outputs": [
    {
     "name": "stdout",
     "output_type": "stream",
     "text": [
      "1387/1387 [==============================] - 0s 262us/step\n",
      "********************************************************************************************************\n",
      "|                                                                                                      |\n",
      "|                                                                                                      |\n",
      "  Loss & Accuracy of test data on Dynamic set : [0.05266645603603324, 0.9834174477289113]\n",
      "|                                                                                                      |\n",
      "|                                                                                                      |\n",
      "********************************************************************************************************\n"
     ]
    }
   ],
   "source": [
    "score_dynamic = model_dynamic.evaluate(X_test_dynamic, y_test_dynamic_oh)\n",
    "\n",
    "print(\"********************************************************************************************************\")\n",
    "print(\"|                                                                                                      |\")\n",
    "print(\"|                                                                                                      |\")\n",
    "print(\"  Loss & Accuracy of test data on Dynamic set :\",score_dynamic )\n",
    "print(\"|                                                                                                      |\")\n",
    "print(\"|                                                                                                      |\")\n",
    "print(\"********************************************************************************************************\")"
   ]
  }
 ],
 "metadata": {
  "kernelspec": {
   "display_name": "Python 3",
   "language": "python",
   "name": "python3"
  },
  "language_info": {
   "codemirror_mode": {
    "name": "ipython",
    "version": 3
   },
   "file_extension": ".py",
   "mimetype": "text/x-python",
   "name": "python",
   "nbconvert_exporter": "python",
   "pygments_lexer": "ipython3",
   "version": "3.6.8"
  }
 },
 "nbformat": 4,
 "nbformat_minor": 2
}
