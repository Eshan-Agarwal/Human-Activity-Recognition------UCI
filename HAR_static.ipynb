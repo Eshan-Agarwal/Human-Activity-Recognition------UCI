{
 "cells": [
  {
   "cell_type": "markdown",
   "metadata": {},
   "source": [
    "# Importing Libraries"
   ]
  },
  {
   "cell_type": "code",
   "execution_count": 1,
   "metadata": {},
   "outputs": [],
   "source": [
    "import pandas as pd\n",
    "import numpy as np"
   ]
  },
  {
   "cell_type": "code",
   "execution_count": 2,
   "metadata": {},
   "outputs": [],
   "source": [
    "\n",
    "import matplotlib.pyplot as plt\n",
    "import numpy as np\n",
    "import time\n",
    "\n",
    "def plt_dynamic(x, vy, ty, ax, colors=['b']):\n",
    "    ax.plot(x, vy, 'b', label=\"Validation Loss\")\n",
    "    ax.plot(x, ty, 'r', label=\"Train Loss\")\n",
    "    plt.legend()\n",
    "    plt.grid()\n",
    "   \n",
    "    fig.canvas.draw()"
   ]
  },
  {
   "cell_type": "code",
   "execution_count": 3,
   "metadata": {},
   "outputs": [],
   "source": [
    "# Activities are the class labels\n",
    "# It is a 6 class classification\n",
    "ACTIVITIES = {\n",
    "    0: 'WALKING',\n",
    "    1: 'WALKING_UPSTAIRS',\n",
    "    2: 'WALKING_DOWNSTAIRS',\n",
    "    3: 'SITTING',\n",
    "    4: 'STANDING',\n",
    "    5: 'LAYING',\n",
    "}\n",
    "\n",
    "# Utility function to print the confusion matrix\n",
    "def confusion_matrix(Y_true, Y_pred):\n",
    "    Y_true = pd.Series([ACTIVITIES[y] for y in np.argmax(Y_true, axis=1)])\n",
    "    Y_pred = pd.Series([ACTIVITIES[y] for y in np.argmax(Y_pred, axis=1)])\n",
    "\n",
    "    return pd.crosstab(Y_true, Y_pred, rownames=['True'], colnames=['Pred'])"
   ]
  },
  {
   "cell_type": "markdown",
   "metadata": {},
   "source": [
    "### Data"
   ]
  },
  {
   "cell_type": "code",
   "execution_count": 4,
   "metadata": {},
   "outputs": [],
   "source": [
    "# Data directory\n",
    "DATADIR = 'UCI_HAR_Dataset'"
   ]
  },
  {
   "cell_type": "code",
   "execution_count": 5,
   "metadata": {},
   "outputs": [],
   "source": [
    "# Raw data signals\n",
    "# Signals are from Accelerometer and Gyroscope\n",
    "# The signals are in x,y,z directions\n",
    "# Sensor signals are filtered to have only body acceleration\n",
    "# excluding the acceleration due to gravity\n",
    "# Triaxial acceleration from the accelerometer is total acceleration\n",
    "SIGNALS = [\n",
    "    \"body_acc_x\",\n",
    "    \"body_acc_y\",\n",
    "    \"body_acc_z\",\n",
    "    \"body_gyro_x\",\n",
    "    \"body_gyro_y\",\n",
    "    \"body_gyro_z\",\n",
    "    \"total_acc_x\",\n",
    "    \"total_acc_y\",\n",
    "    \"total_acc_z\"\n",
    "]"
   ]
  },
  {
   "cell_type": "code",
   "execution_count": 6,
   "metadata": {},
   "outputs": [],
   "source": [
    "# Utility function to read the data from csv file\n",
    "def _read_csv(filename):\n",
    "    return pd.read_csv(filename, delim_whitespace=True, header=None)\n",
    "\n",
    "# Utility function to load the load\n",
    "def load_signals(subset):\n",
    "    signals_data = []\n",
    "\n",
    "    for signal in SIGNALS:\n",
    "        filename = f'UCI_HAR_Dataset/{subset}/Inertial Signals/{signal}_{subset}.txt'\n",
    "        signals_data.append(\n",
    "            _read_csv(filename).as_matrix()\n",
    "        ) \n",
    "\n",
    "    # Transpose is used to change the dimensionality of the output,\n",
    "    # aggregating the signals by combination of sample/timestep.\n",
    "    # Resultant shape is (7352 train/2947 test samples, 128 timesteps, 9 signals)\n",
    "    return np.transpose(signals_data, (1, 2, 0))"
   ]
  },
  {
   "cell_type": "code",
   "execution_count": 7,
   "metadata": {},
   "outputs": [],
   "source": [
    "\n",
    "def load_y(subset):\n",
    "    \"\"\"\n",
    "    The objective that we are trying to predict is a integer, from 1 to 6,\n",
    "    that represents a human activity. We return a binary representation of \n",
    "    every sample objective as a 6 bits vector using One Hot Encoding\n",
    "    (https://pandas.pydata.org/pandas-docs/stable/generated/pandas.get_dummies.html)\n",
    "    \"\"\"\n",
    "    filename = f'UCI_HAR_Dataset/{subset}/y_{subset}.txt'\n",
    "    y = _read_csv(filename)[0]\n",
    "\n",
    "    return y"
   ]
  },
  {
   "cell_type": "code",
   "execution_count": 8,
   "metadata": {},
   "outputs": [],
   "source": [
    "def load_data():\n",
    "    \"\"\"\n",
    "    Obtain the dataset from multiple files.\n",
    "    Returns: X_train, X_test, y_train, y_test\n",
    "    \"\"\"\n",
    "    X_train, X_test = load_signals('train'), load_signals('test')\n",
    "    y_train, y_test = load_y('train'), load_y('test')\n",
    "\n",
    "    return X_train, X_test, y_train, y_test"
   ]
  },
  {
   "cell_type": "code",
   "execution_count": 9,
   "metadata": {},
   "outputs": [],
   "source": [
    "# Importing tensorflow\n",
    "np.random.seed(42)\n",
    "import tensorflow as tf\n",
    "tf.set_random_seed(42)"
   ]
  },
  {
   "cell_type": "code",
   "execution_count": 10,
   "metadata": {},
   "outputs": [],
   "source": [
    "# Configuring a session\n",
    "session_conf = tf.ConfigProto(\n",
    "    intra_op_parallelism_threads=1,\n",
    "    inter_op_parallelism_threads=1\n",
    ")"
   ]
  },
  {
   "cell_type": "code",
   "execution_count": 11,
   "metadata": {},
   "outputs": [
    {
     "name": "stderr",
     "output_type": "stream",
     "text": [
      "Using TensorFlow backend.\n"
     ]
    }
   ],
   "source": [
    "# Import Keras\n",
    "from keras import backend as K\n",
    "sess = tf.Session(graph=tf.get_default_graph(), config=session_conf)\n",
    "K.set_session(sess)"
   ]
  },
  {
   "cell_type": "code",
   "execution_count": 12,
   "metadata": {},
   "outputs": [],
   "source": [
    "# Importing libraries\n",
    "from keras.models import Sequential\n",
    "from keras.layers import LSTM\n",
    "from keras.layers.core import Dense, Dropout"
   ]
  },
  {
   "cell_type": "code",
   "execution_count": 13,
   "metadata": {},
   "outputs": [],
   "source": [
    "# Utility function to count the number of classes\n",
    "def _count_classes(y):\n",
    "    return len(set([tuple(category) for category in y]))"
   ]
  },
  {
   "cell_type": "code",
   "execution_count": 14,
   "metadata": {},
   "outputs": [
    {
     "name": "stderr",
     "output_type": "stream",
     "text": [
      "C:\\Users\\MERCER\\Anaconda3\\envs\\keras-gpu\\lib\\site-packages\\ipykernel_launcher.py:12: FutureWarning: Method .as_matrix will be removed in a future version. Use .values instead.\n",
      "  if sys.path[0] == '':\n"
     ]
    }
   ],
   "source": [
    "# Loading the train and test data\n",
    "X_train, X_test, y_train, y_test = load_data()"
   ]
  },
  {
   "cell_type": "code",
   "execution_count": 15,
   "metadata": {},
   "outputs": [
    {
     "name": "stdout",
     "output_type": "stream",
     "text": [
      "(7352, 128, 9) (7352,)\n",
      "(2947, 128, 9) (2947,)\n"
     ]
    }
   ],
   "source": [
    "print(X_train.shape,y_train.shape)\n",
    "print(X_test.shape,y_test.shape)"
   ]
  },
  {
   "cell_type": "markdown",
   "metadata": {},
   "source": [
    "# Prepare Data for Dynamic"
   ]
  },
  {
   "cell_type": "markdown",
   "metadata": {},
   "source": [
    "# Prepare Data for static"
   ]
  },
  {
   "cell_type": "code",
   "execution_count": 28,
   "metadata": {},
   "outputs": [
    {
     "name": "stdout",
     "output_type": "stream",
     "text": [
      "\n",
      "+++ DATA STATISTICS +++\n",
      "\n",
      "train_static shape:  (4067, 128, 9) (4067,)\n",
      "test_static shape:  (1560, 128, 9) (1560,)\n"
     ]
    }
   ],
   "source": [
    "import random\n",
    "\n",
    "static_1 = np.where(y_train == 4)[0]\n",
    "static_2 = np.where(y_train == 5)[0]\n",
    "static_3 = np.where(y_train == 6)[0]\n",
    "static = np.concatenate([static_1, static_2, static_3])\n",
    "static_list = static.tolist()\n",
    "\n",
    "# Shuffle dynamic data index\n",
    "r = random.random()\n",
    "random.shuffle(static_list, lambda: r)\n",
    "\n",
    "static = np.array(static_list)\n",
    "\n",
    "X_train_static = X_train[static]\n",
    "y_train_static = y_train[static]\n",
    "\n",
    "# Convert (1, 2, 3) labels to (0, 1, 2)\n",
    "y_train_static  = y_train_static - 4\n",
    "\n",
    "print (\"\\n+++ DATA STATISTICS +++\\n\")\n",
    "print (\"train_static shape: \", X_train_static.shape,y_train_static.shape)\n",
    "\n",
    "# Select dynamic HAR test data\n",
    "\n",
    "static_1 = np.where(y_test == 4)[0]\n",
    "static_2 = np.where(y_test == 5)[0]\n",
    "static_3 = np.where(y_test == 6)[0]\n",
    "static = np.concatenate([static_1, static_2, static_3])\n",
    "\n",
    "X_test_static = X_test[static]\n",
    "y_test_static = y_test[static]\n",
    "\n",
    "# Convert (1, 2, 3) labels to (0, 1, 2)\n",
    "y_test_static  = y_test_static - 4\n",
    "\n",
    "print (\"test_static shape: \", X_test_static.shape,y_test_static.shape)\n",
    "\n",
    "n_classes = 3\n",
    "\n",
    "# Convert to one hot encoding vector\n",
    "y_train_static_oh = np.eye(n_classes)[y_train_static]\n",
    "\n",
    "y_test_static_oh = np.eye(n_classes)[y_test_static]"
   ]
  },
  {
   "cell_type": "code",
   "execution_count": 19,
   "metadata": {},
   "outputs": [
    {
     "name": "stdout",
     "output_type": "stream",
     "text": [
      "Shape of y_train_static after OHE  (4067, 3)\n",
      "Shape of y_test_static after OHE  (1560, 3)\n"
     ]
    }
   ],
   "source": [
    "print(\"Shape of y_train_static after OHE \" , y_train_static_oh.shape)\n",
    "\n",
    "print(\"Shape of y_test_static after OHE \" , y_test_static_oh.shape)"
   ]
  },
  {
   "cell_type": "code",
   "execution_count": 21,
   "metadata": {},
   "outputs": [
    {
     "name": "stdout",
     "output_type": "stream",
     "text": [
      "128\n",
      "9\n",
      "4067\n",
      "3\n"
     ]
    }
   ],
   "source": [
    "# For static\n",
    "\n",
    "\n",
    "timesteps_static = len(X_train_static[0])\n",
    "input_dim_static = len(X_train_static[0][0])\n",
    "n_classes_static = _count_classes(y_train_static_oh)\n",
    "\n",
    "print(timesteps_static)\n",
    "print(input_dim_static)\n",
    "print(len(X_train_static))\n",
    "print(n_classes_static)"
   ]
  },
  {
   "cell_type": "markdown",
   "metadata": {},
   "source": [
    "- Defining the Architecture of LSTM"
   ]
  },
  {
   "cell_type": "markdown",
   "metadata": {},
   "source": [
    "## Dynamic Model"
   ]
  },
  {
   "cell_type": "markdown",
   "metadata": {},
   "source": [
    "# Static Model"
   ]
  },
  {
   "cell_type": "code",
   "execution_count": 22,
   "metadata": {},
   "outputs": [
    {
     "name": "stdout",
     "output_type": "stream",
     "text": [
      "WARNING:tensorflow:From C:\\Users\\MERCER\\Anaconda3\\envs\\keras-gpu\\lib\\site-packages\\tensorflow\\python\\framework\\op_def_library.py:263: colocate_with (from tensorflow.python.framework.ops) is deprecated and will be removed in a future version.\n",
      "Instructions for updating:\n",
      "Colocations handled automatically by placer.\n",
      "WARNING:tensorflow:From C:\\Users\\MERCER\\Anaconda3\\envs\\keras-gpu\\lib\\site-packages\\keras\\backend\\tensorflow_backend.py:3445: calling dropout (from tensorflow.python.ops.nn_ops) with keep_prob is deprecated and will be removed in a future version.\n",
      "Instructions for updating:\n",
      "Please use `rate` instead of `keep_prob`. Rate should be set to `rate = 1 - keep_prob`.\n",
      "_________________________________________________________________\n",
      "Layer (type)                 Output Shape              Param #   \n",
      "=================================================================\n",
      "conv1d_1 (Conv1D)            (None, 126, 50)           1400      \n",
      "_________________________________________________________________\n",
      "max_pooling1d_1 (MaxPooling1 (None, 63, 50)            0         \n",
      "_________________________________________________________________\n",
      "batch_normalization_1 (Batch (None, 63, 50)            200       \n",
      "_________________________________________________________________\n",
      "dropout_1 (Dropout)          (None, 63, 50)            0         \n",
      "_________________________________________________________________\n",
      "conv1d_2 (Conv1D)            (None, 61, 100)           15100     \n",
      "_________________________________________________________________\n",
      "max_pooling1d_2 (MaxPooling1 (None, 30, 100)           0         \n",
      "_________________________________________________________________\n",
      "batch_normalization_2 (Batch (None, 30, 100)           400       \n",
      "_________________________________________________________________\n",
      "dropout_2 (Dropout)          (None, 30, 100)           0         \n",
      "_________________________________________________________________\n",
      "lstm_1 (LSTM)                (None, 30, 32)            17024     \n",
      "_________________________________________________________________\n",
      "dropout_3 (Dropout)          (None, 30, 32)            0         \n",
      "_________________________________________________________________\n",
      "lstm_2 (LSTM)                (None, 30, 80)            36160     \n",
      "_________________________________________________________________\n",
      "dropout_4 (Dropout)          (None, 30, 80)            0         \n",
      "_________________________________________________________________\n",
      "flatten_1 (Flatten)          (None, 2400)              0         \n",
      "_________________________________________________________________\n",
      "dense_1 (Dense)              (None, 3)                 7203      \n",
      "=================================================================\n",
      "Total params: 77,487\n",
      "Trainable params: 77,187\n",
      "Non-trainable params: 300\n",
      "_________________________________________________________________\n"
     ]
    }
   ],
   "source": [
    "from keras.layers import LSTM, Dropout, TimeDistributed, Dense, Activation, Embedding,Flatten\n",
    "from keras.layers import BatchNormalization\n",
    "from keras.layers import Conv1D, MaxPooling1D\n",
    "from keras.optimizers import Adam\n",
    "\n",
    "\n",
    "model_static = Sequential()\n",
    "\n",
    "\n",
    "model_static.add(Conv1D(50, 3, input_shape=(128, 9), activation='tanh',kernel_initializer = 'he_normal'))\n",
    "model_static.add(MaxPooling1D(2))\n",
    "model_static.add(BatchNormalization())\n",
    "model_static.add(Dropout(0.2))\n",
    "\n",
    "\n",
    "model_static.add(Conv1D(100, 3, activation='tanh',kernel_initializer = 'he_normal'))\n",
    "model_static.add(MaxPooling1D(2))\n",
    "model_static.add(BatchNormalization())\n",
    "model_static.add(Dropout(0.2))\n",
    "\n",
    "\n",
    "\n",
    "model_static.add(LSTM(32,activation = 'tanh',kernel_initializer = 'he_normal',return_sequences = True))\n",
    "model_static.add(Dropout(0.5))\n",
    "\n",
    "\n",
    "model_static.add(LSTM(80,activation = 'tanh',kernel_initializer = 'he_normal',return_sequences = True))\n",
    "model_static.add(Dropout(0.5))\n",
    "\n",
    "\n",
    "\n",
    "model_static.add(Flatten())\n",
    "\n",
    "\n",
    "model_static.add(Dense(3, activation='sigmoid'))\n",
    "\n",
    "\n",
    "\n",
    "model_static.compile(loss='categorical_crossentropy', metrics=['accuracy'], optimizer = 'adam')\n",
    "\n",
    "model_static.summary()"
   ]
  },
  {
   "cell_type": "code",
   "execution_count": 23,
   "metadata": {
    "scrolled": true
   },
   "outputs": [
    {
     "name": "stdout",
     "output_type": "stream",
     "text": [
      "WARNING:tensorflow:From C:\\Users\\MERCER\\Anaconda3\\envs\\keras-gpu\\lib\\site-packages\\tensorflow\\python\\ops\\math_ops.py:3066: to_int32 (from tensorflow.python.ops.math_ops) is deprecated and will be removed in a future version.\n",
      "Instructions for updating:\n",
      "Use tf.cast instead.\n",
      "Train on 4067 samples, validate on 1560 samples\n",
      "Epoch 1/50\n",
      "4067/4067 [==============================] - 47s 12ms/step - loss: 0.3465 - acc: 0.8498 - val_loss: 0.2998 - val_acc: 0.8699\n",
      "Epoch 2/50\n",
      "4067/4067 [==============================] - 43s 11ms/step - loss: 0.3085 - acc: 0.8716 - val_loss: 0.2808 - val_acc: 0.8827\n",
      "Epoch 3/50\n",
      "4067/4067 [==============================] - 43s 11ms/step - loss: 0.2797 - acc: 0.8844 - val_loss: 0.2864 - val_acc: 0.8917\n",
      "Epoch 4/50\n",
      "4067/4067 [==============================] - 43s 11ms/step - loss: 0.2659 - acc: 0.8908 - val_loss: 0.2955 - val_acc: 0.8705\n",
      "Epoch 5/50\n",
      "4067/4067 [==============================] - 43s 11ms/step - loss: 0.2672 - acc: 0.8916 - val_loss: 0.2288 - val_acc: 0.8981\n",
      "Epoch 6/50\n",
      "4067/4067 [==============================] - 43s 11ms/step - loss: 0.2507 - acc: 0.8967 - val_loss: 0.2000 - val_acc: 0.9263\n",
      "Epoch 7/50\n",
      "4067/4067 [==============================] - 43s 11ms/step - loss: 0.2435 - acc: 0.8906 - val_loss: 0.2096 - val_acc: 0.9154\n",
      "Epoch 8/50\n",
      "4067/4067 [==============================] - 43s 11ms/step - loss: 0.2301 - acc: 0.9068 - val_loss: 0.2524 - val_acc: 0.9212\n",
      "Epoch 9/50\n",
      "4067/4067 [==============================] - 43s 11ms/step - loss: 0.2324 - acc: 0.9066 - val_loss: 0.1690 - val_acc: 0.9263\n",
      "Epoch 10/50\n",
      "4067/4067 [==============================] - 43s 11ms/step - loss: 0.2281 - acc: 0.9095 - val_loss: 0.1616 - val_acc: 0.9141\n",
      "Epoch 11/50\n",
      "4067/4067 [==============================] - 43s 11ms/step - loss: 0.2055 - acc: 0.9137 - val_loss: 0.1696 - val_acc: 0.9391\n",
      "Epoch 12/50\n",
      "4067/4067 [==============================] - 43s 11ms/step - loss: 0.2010 - acc: 0.9230 - val_loss: 0.1707 - val_acc: 0.9429\n",
      "Epoch 13/50\n",
      "4067/4067 [==============================] - 43s 11ms/step - loss: 0.1972 - acc: 0.9218 - val_loss: 0.2333 - val_acc: 0.9115\n",
      "Epoch 14/50\n",
      "4067/4067 [==============================] - 43s 11ms/step - loss: 0.1850 - acc: 0.9267 - val_loss: 0.2119 - val_acc: 0.9417\n",
      "Epoch 15/50\n",
      "4067/4067 [==============================] - 43s 11ms/step - loss: 0.1921 - acc: 0.9198 - val_loss: 0.1573 - val_acc: 0.9391\n",
      "Epoch 16/50\n",
      "4067/4067 [==============================] - 43s 11ms/step - loss: 0.1906 - acc: 0.9213 - val_loss: 0.1587 - val_acc: 0.9391\n",
      "Epoch 17/50\n",
      "4067/4067 [==============================] - 43s 11ms/step - loss: 0.1872 - acc: 0.9275 - val_loss: 0.1797 - val_acc: 0.9346\n",
      "Epoch 18/50\n",
      "4067/4067 [==============================] - 43s 11ms/step - loss: 0.1714 - acc: 0.9284 - val_loss: 0.1888 - val_acc: 0.9462\n",
      "Epoch 19/50\n",
      "4067/4067 [==============================] - 43s 11ms/step - loss: 0.1819 - acc: 0.9277 - val_loss: 0.2286 - val_acc: 0.9410\n",
      "Epoch 20/50\n",
      "4067/4067 [==============================] - 43s 11ms/step - loss: 0.1680 - acc: 0.9287 - val_loss: 0.1405 - val_acc: 0.9333\n",
      "Epoch 21/50\n",
      "4067/4067 [==============================] - 43s 11ms/step - loss: 0.1779 - acc: 0.9289 - val_loss: 0.1423 - val_acc: 0.9378\n",
      "Epoch 22/50\n",
      "4067/4067 [==============================] - 43s 11ms/step - loss: 0.1601 - acc: 0.9341 - val_loss: 0.1640 - val_acc: 0.9301\n",
      "Epoch 23/50\n",
      "4067/4067 [==============================] - 43s 11ms/step - loss: 0.1685 - acc: 0.9262 - val_loss: 0.1445 - val_acc: 0.9519\n",
      "Epoch 24/50\n",
      "4067/4067 [==============================] - 43s 11ms/step - loss: 0.1467 - acc: 0.9425 - val_loss: 0.1858 - val_acc: 0.9519\n",
      "Epoch 25/50\n",
      "4067/4067 [==============================] - 43s 11ms/step - loss: 0.1468 - acc: 0.9395 - val_loss: 0.1534 - val_acc: 0.9436\n",
      "Epoch 26/50\n",
      "4067/4067 [==============================] - 43s 11ms/step - loss: 0.1575 - acc: 0.9356 - val_loss: 0.1452 - val_acc: 0.9538\n",
      "Epoch 27/50\n",
      "4067/4067 [==============================] - 43s 11ms/step - loss: 0.1401 - acc: 0.9444 - val_loss: 0.1383 - val_acc: 0.9481\n",
      "Epoch 28/50\n",
      "4067/4067 [==============================] - 43s 11ms/step - loss: 0.1396 - acc: 0.9425 - val_loss: 0.1283 - val_acc: 0.9455\n",
      "Epoch 29/50\n",
      "4067/4067 [==============================] - 43s 11ms/step - loss: 0.1507 - acc: 0.9410 - val_loss: 0.1180 - val_acc: 0.9679\n",
      "Epoch 30/50\n",
      "4067/4067 [==============================] - 43s 11ms/step - loss: 0.1379 - acc: 0.9457 - val_loss: 0.1345 - val_acc: 0.9506\n",
      "Epoch 31/50\n",
      "4067/4067 [==============================] - 43s 11ms/step - loss: 0.1492 - acc: 0.9385 - val_loss: 0.1401 - val_acc: 0.9442\n",
      "Epoch 32/50\n",
      "4067/4067 [==============================] - 43s 11ms/step - loss: 0.1205 - acc: 0.9521 - val_loss: 0.1316 - val_acc: 0.9519\n",
      "Epoch 33/50\n",
      "4067/4067 [==============================] - 43s 11ms/step - loss: 0.1384 - acc: 0.9415 - val_loss: 0.1585 - val_acc: 0.9346\n",
      "Epoch 34/50\n",
      "4067/4067 [==============================] - 43s 11ms/step - loss: 0.1436 - acc: 0.9469 - val_loss: 0.1369 - val_acc: 0.9532\n",
      "Epoch 35/50\n",
      "4067/4067 [==============================] - 43s 11ms/step - loss: 0.1350 - acc: 0.9444 - val_loss: 0.2118 - val_acc: 0.9128\n",
      "Epoch 36/50\n",
      "4067/4067 [==============================] - 43s 11ms/step - loss: 0.1335 - acc: 0.9498 - val_loss: 0.1575 - val_acc: 0.9378\n",
      "Epoch 37/50\n",
      "4067/4067 [==============================] - 43s 11ms/step - loss: 0.1320 - acc: 0.9474 - val_loss: 0.1355 - val_acc: 0.9487\n",
      "Epoch 38/50\n",
      "4067/4067 [==============================] - 43s 11ms/step - loss: 0.1299 - acc: 0.9469 - val_loss: 0.1591 - val_acc: 0.9500\n",
      "Epoch 39/50\n",
      "4067/4067 [==============================] - 44s 11ms/step - loss: 0.1138 - acc: 0.9533 - val_loss: 0.1559 - val_acc: 0.9481\n",
      "Epoch 40/50\n",
      "4067/4067 [==============================] - 43s 11ms/step - loss: 0.1126 - acc: 0.9535 - val_loss: 0.1363 - val_acc: 0.9436\n",
      "Epoch 41/50\n",
      "4067/4067 [==============================] - 43s 11ms/step - loss: 0.1154 - acc: 0.9540 - val_loss: 0.1070 - val_acc: 0.9673\n",
      "Epoch 42/50\n",
      "4067/4067 [==============================] - 44s 11ms/step - loss: 0.1220 - acc: 0.9543 - val_loss: 0.1264 - val_acc: 0.9442\n",
      "Epoch 43/50\n",
      "4067/4067 [==============================] - 43s 11ms/step - loss: 0.1170 - acc: 0.9523 - val_loss: 0.1544 - val_acc: 0.9532\n",
      "Epoch 44/50\n",
      "4067/4067 [==============================] - 43s 11ms/step - loss: 0.1225 - acc: 0.9513 - val_loss: 0.1375 - val_acc: 0.9500\n",
      "Epoch 45/50\n",
      "4067/4067 [==============================] - 43s 11ms/step - loss: 0.1096 - acc: 0.9535 - val_loss: 0.1691 - val_acc: 0.9481\n",
      "Epoch 46/50\n",
      "4067/4067 [==============================] - 44s 11ms/step - loss: 0.1019 - acc: 0.9629 - val_loss: 0.1061 - val_acc: 0.9667\n",
      "Epoch 47/50\n",
      "4067/4067 [==============================] - 43s 11ms/step - loss: 0.0986 - acc: 0.9619 - val_loss: 0.1428 - val_acc: 0.9519\n",
      "Epoch 48/50\n",
      "4067/4067 [==============================] - 43s 11ms/step - loss: 0.1030 - acc: 0.9592 - val_loss: 0.1484 - val_acc: 0.9462\n",
      "Epoch 49/50\n",
      "4067/4067 [==============================] - 43s 11ms/step - loss: 0.1009 - acc: 0.9589 - val_loss: 0.1454 - val_acc: 0.9462\n",
      "Epoch 50/50\n",
      "4067/4067 [==============================] - 44s 11ms/step - loss: 0.0977 - acc: 0.9624 - val_loss: 0.1270 - val_acc: 0.9551\n"
     ]
    }
   ],
   "source": [
    "# Training the model\n",
    "history_static= model_static.fit(X_train_static,\n",
    "          y_train_static_oh,\n",
    "          batch_size=10,\n",
    "          validation_data=(X_test_static, y_test_static_oh),\n",
    "          epochs=50)"
   ]
  },
  {
   "cell_type": "markdown",
   "metadata": {},
   "source": [
    "## Plot o loss"
   ]
  },
  {
   "cell_type": "code",
   "execution_count": 24,
   "metadata": {},
   "outputs": [
    {
     "name": "stdout",
     "output_type": "stream",
     "text": [
      "Test score: 0.1270274377493473\n",
      "Test accuracy: 0.9551282051282052\n"
     ]
    },
    {
     "data": {
      "image/png": "[encoded data removed]",
      "text/plain": [
       "<Figure size 432x288 with 1 Axes>"
      ]
     },
     "metadata": {
      "needs_background": "light"
     },
     "output_type": "display_data"
    }
   ],
   "source": [
    "score = model_static.evaluate(X_test_static, y_test_static_oh, verbose=0) \n",
    "print('Test score:', score[0]) \n",
    "print('Test accuracy:', score[1])\n",
    "\n",
    "fig,ax = plt.subplots(1,1)\n",
    "ax.set_xlabel('epoch') ; ax.set_ylabel('Categorical Crossentropy Loss')\n",
    "\n",
    "# list of epoch numbers\n",
    "x = list(range(1,50+1))\n",
    "\n",
    "# print(history.history.keys())\n",
    "# dict_keys(['val_loss', 'val_acc', 'loss', 'acc'])\n",
    "# history = model_drop.fit(X_train, Y_train, batch_size=batch_size, epochs=nb_epoch, verbose=1, validation_data=(X_test, Y_test))\n",
    "\n",
    "# we will get val_loss and val_acc only when you pass the paramter validation_data\n",
    "# val_loss : validation loss\n",
    "# val_acc : validation accuracy\n",
    "\n",
    "# loss : training loss\n",
    "# acc : train accuracy\n",
    "# for each key in histrory.histrory we will have a list of length equal to number of epochs\n",
    "\n",
    "vy = history_static.history['val_loss']\n",
    "ty = history_static.history['loss']\n",
    "plt_dynamic(x, vy, ty, ax)"
   ]
  },
  {
   "cell_type": "markdown",
   "metadata": {},
   "source": [
    "## Plot On Accuracy"
   ]
  },
  {
   "cell_type": "code",
   "execution_count": 25,
   "metadata": {},
   "outputs": [
    {
     "name": "stdout",
     "output_type": "stream",
     "text": [
      "Test score: 0.1270274377493473\n",
      "Test accuracy: 0.9551282051282052\n"
     ]
    },
    {
     "data": {
      "image/png": "[encoded data removed]",
      "text/plain": [
       "<Figure size 432x288 with 1 Axes>"
      ]
     },
     "metadata": {
      "needs_background": "light"
     },
     "output_type": "display_data"
    }
   ],
   "source": [
    "score = model_static.evaluate(X_test_static, y_test_static_oh, verbose=0) \n",
    "print('Test score:', score[0]) \n",
    "print('Test accuracy:', score[1])\n",
    "\n",
    "fig,ax = plt.subplots(1,1)\n",
    "ax.set_xlabel('epoch') ; ax.set_ylabel('Accuracy')\n",
    "\n",
    "# list of epoch numbers\n",
    "x = list(range(1,50+1))\n",
    "\n",
    "# print(history.history.keys())\n",
    "# dict_keys(['val_loss', 'val_acc', 'loss', 'acc'])\n",
    "# history = model_drop.fit(X_train, Y_train, batch_size=batch_size, epochs=nb_epoch, verbose=1, validation_data=(X_test, Y_test))\n",
    "\n",
    "# we will get val_loss and val_acc only when you pass the paramter validation_data\n",
    "# val_loss : validation loss\n",
    "# val_acc : validation accuracy\n",
    "\n",
    "# loss : training loss\n",
    "# acc : train accuracy\n",
    "# for each key in histrory.histrory we will have a list of length equal to number of epochs\n",
    "\n",
    "vy = history_static.history['val_acc']\n",
    "ty = history_static.history['acc']\n",
    "plt_dynamic(x, vy, ty, ax)"
   ]
  },
  {
   "cell_type": "markdown",
   "metadata": {},
   "source": [
    "# Confusion Matrix"
   ]
  },
  {
   "cell_type": "code",
   "execution_count": 26,
   "metadata": {},
   "outputs": [
    {
     "data": {
      "text/html": [
       "<div>\n",
       "<style scoped>\n",
       "    .dataframe tbody tr th:only-of-type {\n",
       "        vertical-align: middle;\n",
       "    }\n",
       "\n",
       "    .dataframe tbody tr th {\n",
       "        vertical-align: top;\n",
       "    }\n",
       "\n",
       "    .dataframe thead th {\n",
       "        text-align: right;\n",
       "    }\n",
       "</style>\n",
       "<table border=\"1\" class=\"dataframe\">\n",
       "  <thead>\n",
       "    <tr style=\"text-align: right;\">\n",
       "      <th>Pred</th>\n",
       "      <th>WALKING</th>\n",
       "      <th>WALKING_DOWNSTAIRS</th>\n",
       "      <th>WALKING_UPSTAIRS</th>\n",
       "    </tr>\n",
       "    <tr>\n",
       "      <th>True</th>\n",
       "      <th></th>\n",
       "      <th></th>\n",
       "      <th></th>\n",
       "    </tr>\n",
       "  </thead>\n",
       "  <tbody>\n",
       "    <tr>\n",
       "      <th>WALKING</th>\n",
       "      <td>452</td>\n",
       "      <td>0</td>\n",
       "      <td>39</td>\n",
       "    </tr>\n",
       "    <tr>\n",
       "      <th>WALKING_DOWNSTAIRS</th>\n",
       "      <td>0</td>\n",
       "      <td>537</td>\n",
       "      <td>0</td>\n",
       "    </tr>\n",
       "    <tr>\n",
       "      <th>WALKING_UPSTAIRS</th>\n",
       "      <td>31</td>\n",
       "      <td>0</td>\n",
       "      <td>501</td>\n",
       "    </tr>\n",
       "  </tbody>\n",
       "</table>\n",
       "</div>"
      ],
      "text/plain": [
       "Pred                WALKING  WALKING_DOWNSTAIRS  WALKING_UPSTAIRS\n",
       "True                                                             \n",
       "WALKING                 452                   0                39\n",
       "WALKING_DOWNSTAIRS        0                 537                 0\n",
       "WALKING_UPSTAIRS         31                   0               501"
      ]
     },
     "execution_count": 26,
     "metadata": {},
     "output_type": "execute_result"
    }
   ],
   "source": [
    "confusion_matrix(y_test_static_oh, model_static.predict(X_test_static))"
   ]
  },
  {
   "cell_type": "markdown",
   "metadata": {},
   "source": [
    "# Result on static data"
   ]
  },
  {
   "cell_type": "code",
   "execution_count": 27,
   "metadata": {},
   "outputs": [
    {
     "name": "stdout",
     "output_type": "stream",
     "text": [
      "1560/1560 [==============================] - 2s 1ms/step\n",
      "********************************************************************************************************\n",
      "|                                                                                                      |\n",
      "|                                                                                                      |\n",
      "  Loss & Accuracy of test data on Static set : [0.1270274377493473, 0.9551282051282052]\n",
      "|                                                                                                      |\n",
      "|                                                                                                      |\n",
      "********************************************************************************************************\n"
     ]
    }
   ],
   "source": [
    "score_static =  model_static.evaluate(X_test_static, y_test_static_oh)\n",
    "\n",
    "print(\"********************************************************************************************************\")\n",
    "print(\"|                                                                                                      |\")\n",
    "print(\"|                                                                                                      |\")\n",
    "print(\"  Loss & Accuracy of test data on Static set :\",score_static )\n",
    "print(\"|                                                                                                      |\")\n",
    "print(\"|                                                                                                      |\")\n",
    "print(\"********************************************************************************************************\")\n"
   ]
  }
 ],
 "metadata": {
  "kernelspec": {
   "display_name": "Python 3",
   "language": "python",
   "name": "python3"
  },
  "language_info": {
   "codemirror_mode": {
    "name": "ipython",
    "version": 3
   },
   "file_extension": ".py",
   "mimetype": "text/x-python",
   "name": "python",
   "nbconvert_exporter": "python",
   "pygments_lexer": "ipython3",
   "version": "3.6.8"
  }
 },
 "nbformat": 4,
 "nbformat_minor": 2
}
